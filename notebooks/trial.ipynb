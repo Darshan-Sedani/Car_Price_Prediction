{
 "cells": [
  {
   "cell_type": "code",
   "execution_count": 48,
   "metadata": {},
   "outputs": [],
   "source": [
    "import numpy as np\n",
    "import pandas as pd\n",
    "import matplotlib.pyplot as plt\n",
    "from sklearn.preprocessing import MinMaxScaler,StandardScaler\n",
    "\n",
    "from tensorflow.keras.layers import Dense\n",
    "from tensorflow.keras.models import Sequential\n",
    "from sklearn.model_selection import train_test_split\n",
    "\n",
    "import warnings\n",
    "warnings.filterwarnings(\"ignore\")\n"
   ]
  },
  {
   "cell_type": "code",
   "execution_count": 49,
   "metadata": {},
   "outputs": [
    {
     "name": "stdout",
     "output_type": "stream",
     "text": [
      "     customer name                                    customer e-mail  \\\n",
      "0    Martina Avila  cubilia.Curae.Phasellus@quisaccumsanconvallis.edu   \n",
      "1    Harlan Barnes                                eu.dolor@diam.co.uk   \n",
      "2  Naomi Rodriquez  vulputate.mauris.sagittis@ametconsectetueradip...   \n",
      "3  Jade Cunningham                            malesuada@dignissim.com   \n",
      "4     Cedric Leach     felis.ullamcorper.viverra@egetmollislectus.net   \n",
      "\n",
      "        country  gender        age  annual Salary  credit card debt  \\\n",
      "0      Bulgaria       0  41.851720    62812.09301      11609.380910   \n",
      "1        Belize       0  40.870623    66646.89292       9572.957136   \n",
      "2       Algeria       1  43.152897    53798.55112      11160.355060   \n",
      "3  Cook Islands       1  58.271369    79370.03798      14426.164850   \n",
      "4        Brazil       1  57.313749    59729.15130       5358.712177   \n",
      "\n",
      "     net worth  car purchase amount  \n",
      "0  238961.2505          35321.45877  \n",
      "1  530973.9078          45115.52566  \n",
      "2  638467.1773          42925.70921  \n",
      "3  548599.0524          67422.36313  \n",
      "4  560304.0671          55915.46248  \n"
     ]
    }
   ],
   "source": [
    "df = pd.read_csv('car_purchasing.csv', encoding='ISO-8859-1')\n",
    "\n",
    "# Check the first few rows of the dataset\n",
    "print(df.head())"
   ]
  },
  {
   "cell_type": "code",
   "execution_count": 50,
   "metadata": {},
   "outputs": [],
   "source": [
    "df.drop(columns=['customer name', 'customer e-mail', 'country'], inplace=True)"
   ]
  },
  {
   "cell_type": "code",
   "execution_count": 51,
   "metadata": {},
   "outputs": [],
   "source": [
    "train_set,test_set = train_test_split(df,test_size=0.2,random_state=0)"
   ]
  },
  {
   "cell_type": "code",
   "execution_count": 52,
   "metadata": {},
   "outputs": [],
   "source": [
    "scaler=StandardScaler()"
   ]
  },
  {
   "cell_type": "code",
   "execution_count": 53,
   "metadata": {},
   "outputs": [],
   "source": [
    "train_set = scaler.fit_transform(train_set)"
   ]
  },
  {
   "cell_type": "code",
   "execution_count": 54,
   "metadata": {},
   "outputs": [],
   "source": [
    "test_set = scaler.fit_transform(test_set)"
   ]
  },
  {
   "cell_type": "code",
   "execution_count": 55,
   "metadata": {},
   "outputs": [
    {
     "data": {
      "text/plain": [
       "array([[ 0.98019606,  0.4104977 , -1.6619508 , -0.64933159, -0.24462287,\n",
       "        -0.87935776],\n",
       "       [-1.02020406,  0.5448837 ,  0.85586707, -0.93240467, -1.49187534,\n",
       "         0.16848993],\n",
       "       [-1.02020406,  1.23781276, -0.38457054, -1.14202773, -0.0960339 ,\n",
       "         0.49695953],\n",
       "       ...,\n",
       "       [-1.02020406, -1.45388407,  1.9018063 ,  0.90404545, -1.06181584,\n",
       "        -0.24317227],\n",
       "       [-1.02020406,  0.60686745, -0.37735122, -2.12230328, -1.55376175,\n",
       "        -0.58029646],\n",
       "       [-1.02020406, -0.7713426 ,  0.78984347, -0.48138186, -0.06728634,\n",
       "        -0.030824  ]])"
      ]
     },
     "execution_count": 55,
     "metadata": {},
     "output_type": "execute_result"
    }
   ],
   "source": [
    "train_set"
   ]
  },
  {
   "cell_type": "code",
   "execution_count": 56,
   "metadata": {},
   "outputs": [],
   "source": [
    "X_train = train_set[:,:-1]\n",
    "y_train = train_set[:,-1]\n",
    "\n",
    "X_test = test_set[:,:-1]\n",
    "y_test = test_set[:,-1]\n"
   ]
  },
  {
   "cell_type": "code",
   "execution_count": 57,
   "metadata": {},
   "outputs": [
    {
     "data": {
      "text/plain": [
       "array([[ 0.98019606,  0.4104977 , -1.6619508 , -0.64933159, -0.24462287],\n",
       "       [-1.02020406,  0.5448837 ,  0.85586707, -0.93240467, -1.49187534],\n",
       "       [-1.02020406,  1.23781276, -0.38457054, -1.14202773, -0.0960339 ],\n",
       "       ...,\n",
       "       [-1.02020406, -1.45388407,  1.9018063 ,  0.90404545, -1.06181584],\n",
       "       [-1.02020406,  0.60686745, -0.37735122, -2.12230328, -1.55376175],\n",
       "       [-1.02020406, -0.7713426 ,  0.78984347, -0.48138186, -0.06728634]])"
      ]
     },
     "execution_count": 57,
     "metadata": {},
     "output_type": "execute_result"
    }
   ],
   "source": [
    "X_train"
   ]
  },
  {
   "cell_type": "code",
   "execution_count": 58,
   "metadata": {},
   "outputs": [
    {
     "name": "stdout",
     "output_type": "stream",
     "text": [
      "Model: \"sequential_4\"\n",
      "_________________________________________________________________\n",
      " Layer (type)                Output Shape              Param #   \n",
      "=================================================================\n",
      " dense_12 (Dense)            (None, 10)                60        \n",
      "                                                                 \n",
      " dense_13 (Dense)            (None, 10)                110       \n",
      "                                                                 \n",
      " dense_14 (Dense)            (None, 1)                 11        \n",
      "                                                                 \n",
      "=================================================================\n",
      "Total params: 181 (724.00 Byte)\n",
      "Trainable params: 181 (724.00 Byte)\n",
      "Non-trainable params: 0 (0.00 Byte)\n",
      "_________________________________________________________________\n"
     ]
    }
   ],
   "source": [
    "model = Sequential()\n",
    "model.add(Dense(10, activation='relu', input_dim=5))\n",
    "model.add(Dense(10, activation='relu'))\n",
    "model.add(Dense(1, activation='linear'))\n",
    "\n",
    "model.compile(optimizer='adam', loss='mean_squared_error', metrics=['mean_absolute_error'])\n",
    "model.summary()"
   ]
  },
  {
   "cell_type": "code",
   "execution_count": 59,
   "metadata": {},
   "outputs": [
    {
     "name": "stdout",
     "output_type": "stream",
     "text": [
      "Epoch 1/50\n",
      "10/10 [==============================] - 1s 17ms/step - loss: 0.8885 - mean_absolute_error: 0.7239 - val_loss: 1.0119 - val_mean_absolute_error: 0.8137\n",
      "Epoch 2/50\n",
      "10/10 [==============================] - 0s 4ms/step - loss: 0.8207 - mean_absolute_error: 0.6952 - val_loss: 0.9501 - val_mean_absolute_error: 0.7844\n",
      "Epoch 3/50\n",
      "10/10 [==============================] - 0s 4ms/step - loss: 0.7583 - mean_absolute_error: 0.6668 - val_loss: 0.8927 - val_mean_absolute_error: 0.7578\n",
      "Epoch 4/50\n",
      "10/10 [==============================] - 0s 4ms/step - loss: 0.7011 - mean_absolute_error: 0.6412 - val_loss: 0.8357 - val_mean_absolute_error: 0.7307\n",
      "Epoch 5/50\n",
      "10/10 [==============================] - 0s 4ms/step - loss: 0.6494 - mean_absolute_error: 0.6160 - val_loss: 0.7811 - val_mean_absolute_error: 0.7029\n",
      "Epoch 6/50\n",
      "10/10 [==============================] - 0s 4ms/step - loss: 0.5989 - mean_absolute_error: 0.5908 - val_loss: 0.7245 - val_mean_absolute_error: 0.6745\n",
      "Epoch 7/50\n",
      "10/10 [==============================] - 0s 4ms/step - loss: 0.5535 - mean_absolute_error: 0.5658 - val_loss: 0.6713 - val_mean_absolute_error: 0.6454\n",
      "Epoch 8/50\n",
      "10/10 [==============================] - 0s 5ms/step - loss: 0.5093 - mean_absolute_error: 0.5410 - val_loss: 0.6200 - val_mean_absolute_error: 0.6167\n",
      "Epoch 9/50\n",
      "10/10 [==============================] - 0s 4ms/step - loss: 0.4644 - mean_absolute_error: 0.5143 - val_loss: 0.5703 - val_mean_absolute_error: 0.5888\n",
      "Epoch 10/50\n",
      "10/10 [==============================] - 0s 4ms/step - loss: 0.4246 - mean_absolute_error: 0.4897 - val_loss: 0.5214 - val_mean_absolute_error: 0.5600\n",
      "Epoch 11/50\n",
      "10/10 [==============================] - 0s 4ms/step - loss: 0.3850 - mean_absolute_error: 0.4629 - val_loss: 0.4743 - val_mean_absolute_error: 0.5313\n",
      "Epoch 12/50\n",
      "10/10 [==============================] - 0s 5ms/step - loss: 0.3487 - mean_absolute_error: 0.4371 - val_loss: 0.4284 - val_mean_absolute_error: 0.5025\n",
      "Epoch 13/50\n",
      "10/10 [==============================] - 0s 4ms/step - loss: 0.3161 - mean_absolute_error: 0.4121 - val_loss: 0.3863 - val_mean_absolute_error: 0.4716\n",
      "Epoch 14/50\n",
      "10/10 [==============================] - 0s 4ms/step - loss: 0.2860 - mean_absolute_error: 0.3856 - val_loss: 0.3478 - val_mean_absolute_error: 0.4427\n",
      "Epoch 15/50\n",
      "10/10 [==============================] - 0s 4ms/step - loss: 0.2595 - mean_absolute_error: 0.3613 - val_loss: 0.3121 - val_mean_absolute_error: 0.4152\n",
      "Epoch 16/50\n",
      "10/10 [==============================] - 0s 4ms/step - loss: 0.2347 - mean_absolute_error: 0.3391 - val_loss: 0.2804 - val_mean_absolute_error: 0.3885\n",
      "Epoch 17/50\n",
      "10/10 [==============================] - 0s 4ms/step - loss: 0.2135 - mean_absolute_error: 0.3176 - val_loss: 0.2501 - val_mean_absolute_error: 0.3621\n",
      "Epoch 18/50\n",
      "10/10 [==============================] - 0s 4ms/step - loss: 0.1936 - mean_absolute_error: 0.2987 - val_loss: 0.2221 - val_mean_absolute_error: 0.3384\n",
      "Epoch 19/50\n",
      "10/10 [==============================] - 0s 4ms/step - loss: 0.1767 - mean_absolute_error: 0.2827 - val_loss: 0.1985 - val_mean_absolute_error: 0.3167\n",
      "Epoch 20/50\n",
      "10/10 [==============================] - 0s 4ms/step - loss: 0.1613 - mean_absolute_error: 0.2691 - val_loss: 0.1769 - val_mean_absolute_error: 0.2967\n",
      "Epoch 21/50\n",
      "10/10 [==============================] - 0s 5ms/step - loss: 0.1478 - mean_absolute_error: 0.2563 - val_loss: 0.1599 - val_mean_absolute_error: 0.2797\n",
      "Epoch 22/50\n",
      "10/10 [==============================] - 0s 4ms/step - loss: 0.1350 - mean_absolute_error: 0.2441 - val_loss: 0.1457 - val_mean_absolute_error: 0.2642\n",
      "Epoch 23/50\n",
      "10/10 [==============================] - 0s 4ms/step - loss: 0.1246 - mean_absolute_error: 0.2337 - val_loss: 0.1312 - val_mean_absolute_error: 0.2487\n",
      "Epoch 24/50\n",
      "10/10 [==============================] - 0s 4ms/step - loss: 0.1160 - mean_absolute_error: 0.2248 - val_loss: 0.1163 - val_mean_absolute_error: 0.2342\n",
      "Epoch 25/50\n",
      "10/10 [==============================] - 0s 4ms/step - loss: 0.1058 - mean_absolute_error: 0.2156 - val_loss: 0.1065 - val_mean_absolute_error: 0.2240\n",
      "Epoch 26/50\n",
      "10/10 [==============================] - 0s 4ms/step - loss: 0.0974 - mean_absolute_error: 0.2067 - val_loss: 0.0988 - val_mean_absolute_error: 0.2149\n",
      "Epoch 27/50\n",
      "10/10 [==============================] - 0s 4ms/step - loss: 0.0905 - mean_absolute_error: 0.1988 - val_loss: 0.0886 - val_mean_absolute_error: 0.2050\n",
      "Epoch 28/50\n",
      "10/10 [==============================] - 0s 4ms/step - loss: 0.0822 - mean_absolute_error: 0.1903 - val_loss: 0.0809 - val_mean_absolute_error: 0.1959\n",
      "Epoch 29/50\n",
      "10/10 [==============================] - 0s 4ms/step - loss: 0.0755 - mean_absolute_error: 0.1819 - val_loss: 0.0736 - val_mean_absolute_error: 0.1873\n",
      "Epoch 30/50\n",
      "10/10 [==============================] - 0s 4ms/step - loss: 0.0688 - mean_absolute_error: 0.1736 - val_loss: 0.0674 - val_mean_absolute_error: 0.1794\n",
      "Epoch 31/50\n",
      "10/10 [==============================] - 0s 4ms/step - loss: 0.0629 - mean_absolute_error: 0.1663 - val_loss: 0.0621 - val_mean_absolute_error: 0.1723\n",
      "Epoch 32/50\n",
      "10/10 [==============================] - 0s 4ms/step - loss: 0.0583 - mean_absolute_error: 0.1606 - val_loss: 0.0557 - val_mean_absolute_error: 0.1652\n",
      "Epoch 33/50\n",
      "10/10 [==============================] - 0s 4ms/step - loss: 0.0532 - mean_absolute_error: 0.1546 - val_loss: 0.0515 - val_mean_absolute_error: 0.1602\n",
      "Epoch 34/50\n",
      "10/10 [==============================] - 0s 4ms/step - loss: 0.0487 - mean_absolute_error: 0.1487 - val_loss: 0.0477 - val_mean_absolute_error: 0.1555\n",
      "Epoch 35/50\n",
      "10/10 [==============================] - 0s 4ms/step - loss: 0.0444 - mean_absolute_error: 0.1431 - val_loss: 0.0444 - val_mean_absolute_error: 0.1514\n",
      "Epoch 36/50\n",
      "10/10 [==============================] - 0s 4ms/step - loss: 0.0409 - mean_absolute_error: 0.1387 - val_loss: 0.0408 - val_mean_absolute_error: 0.1467\n",
      "Epoch 37/50\n",
      "10/10 [==============================] - 0s 4ms/step - loss: 0.0372 - mean_absolute_error: 0.1342 - val_loss: 0.0385 - val_mean_absolute_error: 0.1430\n",
      "Epoch 38/50\n",
      "10/10 [==============================] - 0s 4ms/step - loss: 0.0346 - mean_absolute_error: 0.1309 - val_loss: 0.0351 - val_mean_absolute_error: 0.1372\n",
      "Epoch 39/50\n",
      "10/10 [==============================] - 0s 5ms/step - loss: 0.0317 - mean_absolute_error: 0.1266 - val_loss: 0.0333 - val_mean_absolute_error: 0.1343\n",
      "Epoch 40/50\n",
      "10/10 [==============================] - 0s 4ms/step - loss: 0.0295 - mean_absolute_error: 0.1233 - val_loss: 0.0314 - val_mean_absolute_error: 0.1305\n",
      "Epoch 41/50\n",
      "10/10 [==============================] - 0s 4ms/step - loss: 0.0274 - mean_absolute_error: 0.1199 - val_loss: 0.0307 - val_mean_absolute_error: 0.1289\n",
      "Epoch 42/50\n",
      "10/10 [==============================] - 0s 4ms/step - loss: 0.0255 - mean_absolute_error: 0.1164 - val_loss: 0.0287 - val_mean_absolute_error: 0.1246\n",
      "Epoch 43/50\n",
      "10/10 [==============================] - 0s 4ms/step - loss: 0.0241 - mean_absolute_error: 0.1141 - val_loss: 0.0267 - val_mean_absolute_error: 0.1209\n",
      "Epoch 44/50\n",
      "10/10 [==============================] - 0s 4ms/step - loss: 0.0228 - mean_absolute_error: 0.1114 - val_loss: 0.0257 - val_mean_absolute_error: 0.1187\n",
      "Epoch 45/50\n",
      "10/10 [==============================] - 0s 4ms/step - loss: 0.0215 - mean_absolute_error: 0.1090 - val_loss: 0.0250 - val_mean_absolute_error: 0.1168\n",
      "Epoch 46/50\n",
      "10/10 [==============================] - 0s 4ms/step - loss: 0.0204 - mean_absolute_error: 0.1067 - val_loss: 0.0245 - val_mean_absolute_error: 0.1151\n",
      "Epoch 47/50\n",
      "10/10 [==============================] - 0s 5ms/step - loss: 0.0194 - mean_absolute_error: 0.1044 - val_loss: 0.0232 - val_mean_absolute_error: 0.1120\n",
      "Epoch 48/50\n",
      "10/10 [==============================] - 0s 15ms/step - loss: 0.0184 - mean_absolute_error: 0.1025 - val_loss: 0.0226 - val_mean_absolute_error: 0.1100\n",
      "Epoch 49/50\n",
      "10/10 [==============================] - 0s 4ms/step - loss: 0.0175 - mean_absolute_error: 0.1002 - val_loss: 0.0220 - val_mean_absolute_error: 0.1082\n",
      "Epoch 50/50\n",
      "10/10 [==============================] - 0s 4ms/step - loss: 0.0168 - mean_absolute_error: 0.0983 - val_loss: 0.0213 - val_mean_absolute_error: 0.1066\n"
     ]
    }
   ],
   "source": [
    "history = model.fit(X_train, y_train, epochs=50, validation_split=0.2)"
   ]
  },
  {
   "cell_type": "code",
   "execution_count": 60,
   "metadata": {},
   "outputs": [
    {
     "name": "stdout",
     "output_type": "stream",
     "text": [
      "4/4 [==============================] - 0s 2ms/step\n"
     ]
    }
   ],
   "source": [
    "y_pred = model.predict(X_test)"
   ]
  },
  {
   "cell_type": "code",
   "execution_count": 61,
   "metadata": {},
   "outputs": [
    {
     "name": "stdout",
     "output_type": "stream",
     "text": [
      "R2 Score= 0.9828235636222522\n"
     ]
    }
   ],
   "source": [
    "from sklearn.metrics import r2_score\n",
    "\n",
    "R2 = r2_score(y_test, y_pred)\n",
    "print(\"R2 Score=\",R2 )"
   ]
  }
 ],
 "metadata": {
  "kernelspec": {
   "display_name": "Python 3",
   "language": "python",
   "name": "python3"
  },
  "language_info": {
   "codemirror_mode": {
    "name": "ipython",
    "version": 3
   },
   "file_extension": ".py",
   "mimetype": "text/x-python",
   "name": "python",
   "nbconvert_exporter": "python",
   "pygments_lexer": "ipython3",
   "version": "-1.-1.-1"
  },
  "orig_nbformat": 4
 },
 "nbformat": 4,
 "nbformat_minor": 2
}
